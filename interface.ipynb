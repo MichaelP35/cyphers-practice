{
 "cells": [
  {
   "cell_type": "code",
   "execution_count": 1,
   "metadata": {},
   "outputs": [],
   "source": [
    "from main import Ciphers\n",
    "\n",
    "\n",
    "cipher_instance = Ciphers()"
   ]
  },
  {
   "cell_type": "code",
   "execution_count": 2,
   "metadata": {},
   "outputs": [
    {
     "name": "stdout",
     "output_type": "stream",
     "text": [
      "Ifmmp, Xpsme!\n",
      "Hello, World!\n",
      "Jgnnq, Yqtnf!\n",
      "Hello, World!\n",
      "jgnnq, yqtnf!\n",
      "hello, world!\n"
     ]
    }
   ],
   "source": [
    "# Testing caesar cipher using uppercase letters\n",
    "print(cipher_instance.caesar('Hello, World!', 1))\n",
    "print(cipher_instance.caesar(cipher_instance.caesar('Hello, World!', 1), -1))\n",
    "\n",
    "print(cipher_instance.caesar('Hello, World!', 2))\n",
    "print(cipher_instance.caesar(cipher_instance.caesar('Hello, World!', 2), -2))\n",
    "\n",
    "# Testing caesar cipher using lowercase letters\n",
    "print(cipher_instance.caesar('hello, world!', 2))\n",
    "print(cipher_instance.caesar(cipher_instance.caesar('hello, world!', 2), -2))"
   ]
  },
  {
   "cell_type": "code",
   "execution_count": 3,
   "metadata": {},
   "outputs": [
    {
     "name": "stdout",
     "output_type": "stream",
     "text": [
      "Wcesc, Jdpek!\n",
      "Hrlnc, Jrrlq!\n"
     ]
    }
   ],
   "source": [
    "#Testing vignere cipher\n",
    "print(cipher_instance.vigenere('Hello, World!', 'python'))\n",
    "print(cipher_instance.vigenere('Hello, World!', 'anaconda'))\n"
   ]
  },
  {
   "cell_type": "code",
   "execution_count": null,
   "metadata": {},
   "outputs": [],
   "source": []
  }
 ],
 "metadata": {
  "kernelspec": {
   "display_name": "Python 3",
   "language": "python",
   "name": "python3"
  },
  "language_info": {
   "codemirror_mode": {
    "name": "ipython",
    "version": 3
   },
   "file_extension": ".py",
   "mimetype": "text/x-python",
   "name": "python",
   "nbconvert_exporter": "python",
   "pygments_lexer": "ipython3",
   "version": "3.12.1"
  }
 },
 "nbformat": 4,
 "nbformat_minor": 2
}
